{
 "cells": [
  {
   "cell_type": "markdown",
   "metadata": {},
   "source": [
    "# Database Creation <a class=\"tocSkip\">\n",
    "Author: Stefan Roland Schwingenschlögl <br>\n",
    "email: stefan.roland.schwingenschloegl@gmail.com <br>\n",
    "github: github.com/stefan-schwingenschloegl <br>\n",
    "___\n",
    "*Projekt File No: 3 <br>*\n",
    "    \n",
    "In this notebook a Database on MS SQL Server Express will be created. In order to create this DB with python the library `pyodbc` will be used. At first for every static file from the Wiener Linien API a table will be created. This tables will be filled with the cleaned values from the notebook before. <br>\n",
    "In the last step an additional table will be created. In this table all entries from the Live delays will be saved in this table."
   ]
  },
  {
   "cell_type": "code",
   "execution_count": 1,
   "metadata": {},
   "outputs": [],
   "source": [
    "#Libraries for handling operation system\n",
    "import os\n",
    "\n",
    "#General Libraries for data processing\n",
    "import numpy as np\n",
    "import pandas as pd\n",
    "\n",
    "# Library for database connection and operations\n",
    "import pyodbc"
   ]
  },
  {
   "cell_type": "code",
   "execution_count": 2,
   "metadata": {},
   "outputs": [],
   "source": [
    "# set string to data folders\n",
    "input_folder = \"./input_data/\""
   ]
  },
  {
   "cell_type": "code",
   "execution_count": 3,
   "metadata": {},
   "outputs": [],
   "source": [
    "#get list of all filenames in data\n",
    "\n",
    "def get_all_filenames_in_data():\n",
    "    file_list = []\n",
    "    for (dirpath, dirnames, filenames) in os.walk(input_folder):\n",
    "        file_list.extend(filenames)\n",
    "        #break\n",
    "    return file_list"
   ]
  },
  {
   "cell_type": "code",
   "execution_count": 4,
   "metadata": {},
   "outputs": [],
   "source": [
    "#read all cleaned data with the given suffix\n",
    "\n",
    "def read_all_files():\n",
    "    file_list = get_all_filenames_in_data()\n",
    "    data = {}\n",
    "    data_gtfs = {}\n",
    "    for file in file_list:\n",
    "        if file.endswith('.txt'):\n",
    "            #df = pd.read_csv('./input_data/' + file)\n",
    "            data_gtfs[file] = pd.read_csv(input_folder + file)\n",
    "        elif file.startswith('clean'):\n",
    "            try:\n",
    "                data[file] = pd.read_csv(input_folder + file, index_col = 0)\n",
    "                data[file] = data[file].replace({np.nan: None})\n",
    "            except pd.errors.ParserError:\n",
    "                continue\n",
    "        \n",
    "    return data_gtfs, data"
   ]
  },
  {
   "cell_type": "code",
   "execution_count": 5,
   "metadata": {},
   "outputs": [],
   "source": [
    "# call function for loading static files\n",
    "[data_gtfs, data] = read_all_files()"
   ]
  },
  {
   "cell_type": "markdown",
   "metadata": {},
   "source": [
    "# Database operations"
   ]
  },
  {
   "cell_type": "code",
   "execution_count": 6,
   "metadata": {},
   "outputs": [],
   "source": [
    "# set properties for database\n",
    "db_name = 'WienerLinienDB'\n",
    "server = 'DESKTOP-JV1HTQR\\SQLEXPRESS'\n",
    "db_connection = False"
   ]
  },
  {
   "cell_type": "markdown",
   "metadata": {},
   "source": [
    "## Create Database"
   ]
  },
  {
   "cell_type": "code",
   "execution_count": 7,
   "metadata": {},
   "outputs": [],
   "source": [
    "# establish DB Connection\n",
    "def db_connect(server, db_name):\n",
    "    conn = pyodbc.connect(\"driver={SQL Server};server=\"+server+\"; database=\"+db_name+\"; trusted_connection=true\")\n",
    "    db_connection = True\n",
    "    print(f\"\\nConnection with {server} sucessfull!\\n\"\n",
    "          f\"Current Database: {db_name}\\n\"\n",
    "          f\"DB Connection Status: {db_connection}\")\n",
    "    return conn"
   ]
  },
  {
   "cell_type": "code",
   "execution_count": 8,
   "metadata": {},
   "outputs": [],
   "source": [
    "# close DB Connection\n",
    "def close_connection(server, conn):\n",
    "    conn.close()\n",
    "    db_connection = False\n",
    "    print(f\"\\nDB-Connection with Server {server} closed.\\n\"\n",
    "          f\"DB Connections Status: {db_connection}\")"
   ]
  },
  {
   "cell_type": "code",
   "execution_count": 9,
   "metadata": {},
   "outputs": [],
   "source": [
    "# create WL_delay Database if it does not exist\n",
    "def create_DB(server, db_name):\n",
    "    \n",
    "    # establish connection to master database\n",
    "    conn = db_connect(server=server, db_name='master')\n",
    "    \n",
    "    with conn:\n",
    "        crs=conn.cursor()\n",
    "        crs.execute(f\"IF NOT EXISTS(SELECT * FROM sys.databases WHERE name = '{db_name}') CREATE DATABASE {db_name};\")   \n",
    "        print(f\"{db_name} sucessfully created.\")\n",
    "    close_connection(server = server, conn=conn)"
   ]
  },
  {
   "cell_type": "code",
   "execution_count": 11,
   "metadata": {},
   "outputs": [
    {
     "name": "stdout",
     "output_type": "stream",
     "text": [
      "\n",
      "Connection with DESKTOP-JV1HTQR\\SQLEXPRESS sucessfull!\n",
      "Current Database: master\n",
      "DB Connection Status: True\n",
      "WienerLinienDB sucessfully created.\n",
      "\n",
      "DB-Connection with Server DESKTOP-JV1HTQR\\SQLEXPRESS closed.\n",
      "DB Connections Status: False\n"
     ]
    }
   ],
   "source": [
    "# create WienerLinienDB\n",
    "create_DB(server, db_name)"
   ]
  },
  {
   "cell_type": "markdown",
   "metadata": {},
   "source": [
    "## Create Database Tables"
   ]
  },
  {
   "cell_type": "code",
   "execution_count": 12,
   "metadata": {},
   "outputs": [],
   "source": [
    "# function to create table schema for static file\n",
    "def create_table(table_name, sql_command, server, db_name):\n",
    "    conn = db_connect(server=server, db_name=db_name)\n",
    "    with conn:\n",
    "        crs=conn.cursor()\n",
    "        crs.execute(sql_command)\n",
    "        print(f\"\\nTable '{table_name}' available in {db_name}\")\n",
    "    close_connection(server = server, conn=conn)"
   ]
  },
  {
   "cell_type": "markdown",
   "metadata": {},
   "source": [
    "### Create and fill Haltepunkte"
   ]
  },
  {
   "cell_type": "code",
   "execution_count": 13,
   "metadata": {},
   "outputs": [
    {
     "name": "stdout",
     "output_type": "stream",
     "text": [
      "\n",
      "Connection with DESKTOP-JV1HTQR\\SQLEXPRESS sucessfull!\n",
      "Current Database: WienerLinienDB\n",
      "DB Connection Status: True\n",
      "\n",
      "Table 'haltepunkte' available in WienerLinienDB\n",
      "\n",
      "DB-Connection with Server DESKTOP-JV1HTQR\\SQLEXPRESS closed.\n",
      "DB Connections Status: False\n"
     ]
    }
   ],
   "source": [
    "# create table haltepunkte\n",
    "sql_command = '''IF NOT EXISTS(SELECT * FROM information_schema.tables\n",
    "                 WHERE table_name='haltepunkte' AND table_schema='dbo') \n",
    "                 CREATE TABLE haltepunkte (\n",
    "                        [StopID] int,\n",
    "                        [DIVA] int,\n",
    "                        [Municipality] varchar(50),\n",
    "                        [MunicipalityID] int,\n",
    "                        [StopText] varchar(100),\n",
    "                        [Longitude] numeric(18,6),\n",
    "                        [Latitude] numeric(18,6)\n",
    "                        )\n",
    "                    '''\n",
    "create_table('haltepunkte', sql_command, server, db_name)"
   ]
  },
  {
   "cell_type": "code",
   "execution_count": 14,
   "metadata": {},
   "outputs": [],
   "source": [
    "def fill_haltepunkte(sql_command, df, server, db_name):\n",
    "    conn = db_connect(server=server, db_name=db_name)\n",
    "    with conn:\n",
    "        crs=conn.cursor()\n",
    "        try:\n",
    "            for index, row in df.iterrows():\n",
    "                crs.execute(sql_command, row['StopID'],\n",
    "                                         row['DIVA'],\n",
    "                                         row['Municipality'],\n",
    "                                         row['MunicipalityID'],\n",
    "                                         row['StopText'],\n",
    "                                         row['Longitude'],\n",
    "                                         row['Latitude']\n",
    "                                         )\n",
    "            print('Table sucessfully filled!')\n",
    "        except:\n",
    "            print('Not Sucessfull!')\n",
    "    close_connection(server = server, conn=conn)"
   ]
  },
  {
   "cell_type": "code",
   "execution_count": 15,
   "metadata": {},
   "outputs": [
    {
     "name": "stdout",
     "output_type": "stream",
     "text": [
      "\n",
      "Connection with DESKTOP-JV1HTQR\\SQLEXPRESS sucessfull!\n",
      "Current Database: WienerLinienDB\n",
      "DB Connection Status: True\n",
      "Table sucessfully filled!\n",
      "\n",
      "DB-Connection with Server DESKTOP-JV1HTQR\\SQLEXPRESS closed.\n",
      "DB Connections Status: False\n"
     ]
    }
   ],
   "source": [
    "sql_command= '''INSERT INTO [dbo].[haltepunkte]\n",
    "           ([StopID]\n",
    "           ,[DIVA]\n",
    "           ,[Municipality]\n",
    "           ,[MunicipalityID]\n",
    "           ,[StopText]\n",
    "           ,[Longitude]\n",
    "           ,[Latitude])\n",
    "     VALUES\n",
    "           (?,\n",
    "            ?,\n",
    "            ?,\n",
    "            ?,\n",
    "            ?,\n",
    "            ?,\n",
    "            ?)\n",
    "'''\n",
    "fill_haltepunkte(sql_command, data['clean_haltepunkte'], server, db_name)"
   ]
  },
  {
   "cell_type": "markdown",
   "metadata": {},
   "source": [
    "### Create and fill Linien"
   ]
  },
  {
   "cell_type": "code",
   "execution_count": 16,
   "metadata": {},
   "outputs": [
    {
     "name": "stdout",
     "output_type": "stream",
     "text": [
      "\n",
      "Connection with DESKTOP-JV1HTQR\\SQLEXPRESS sucessfull!\n",
      "Current Database: WienerLinienDB\n",
      "DB Connection Status: True\n",
      "\n",
      "Table 'linien' available in WienerLinienDB\n",
      "\n",
      "DB-Connection with Server DESKTOP-JV1HTQR\\SQLEXPRESS closed.\n",
      "DB Connections Status: False\n"
     ]
    }
   ],
   "source": [
    "# create table linien\n",
    "sql_command = '''IF NOT EXISTS(SELECT * FROM information_schema.tables\n",
    "                 WHERE table_name='linien' AND table_schema='dbo')\n",
    "                 CREATE TABLE linien (\n",
    "                     [LineID] int,\n",
    "                     [LineText] varchar(50),\n",
    "                     [SortingHelp] int,\n",
    "                     [Realtime] int,\n",
    "                     [MeansOfTransport] varchar(50)\n",
    "                                     )\n",
    "                    '''\n",
    "create_table('linien',sql_command, server, db_name)"
   ]
  },
  {
   "cell_type": "code",
   "execution_count": 17,
   "metadata": {},
   "outputs": [],
   "source": [
    "def fill_linien(sql_command, df, server, db_name):\n",
    "    conn = db_connect(server=server, db_name=db_name)\n",
    "    with conn:\n",
    "        crs=conn.cursor()\n",
    "        #try:\n",
    "        for index, row in df.iterrows():\n",
    "            crs.execute(sql_command, row['LineID'],\n",
    "                                     row['LineText'],\n",
    "                                     row['SortingHelp'],\n",
    "                                     row['Realtime'],\n",
    "                                     row['MeansOfTransport']\n",
    "                                    )\n",
    "        print('Table sucessfully filled!')\n",
    "        #except:\n",
    "        print('Not Sucessfull!')\n",
    "    close_connection(server = server, conn=conn)"
   ]
  },
  {
   "cell_type": "code",
   "execution_count": 18,
   "metadata": {},
   "outputs": [
    {
     "name": "stdout",
     "output_type": "stream",
     "text": [
      "\n",
      "Connection with DESKTOP-JV1HTQR\\SQLEXPRESS sucessfull!\n",
      "Current Database: WienerLinienDB\n",
      "DB Connection Status: True\n",
      "Table sucessfully filled!\n",
      "Not Sucessfull!\n",
      "\n",
      "DB-Connection with Server DESKTOP-JV1HTQR\\SQLEXPRESS closed.\n",
      "DB Connections Status: False\n"
     ]
    }
   ],
   "source": [
    "sql_command= '''INSERT INTO linien\n",
    "           (\n",
    "             [LineID],\n",
    "             [LineText] ,\n",
    "             [SortingHelp],\n",
    "             [Realtime] ,\n",
    "             [MeansOfTransport]\n",
    "                                     )\n",
    "     VALUES\n",
    "           (?,\n",
    "            ?,\n",
    "            ?,\n",
    "            ?,\n",
    "            ?);\n",
    "'''\n",
    "fill_linien(sql_command, data['clean_linien'], server, db_name)"
   ]
  },
  {
   "cell_type": "markdown",
   "metadata": {},
   "source": [
    "### Create and fill haltestellen"
   ]
  },
  {
   "cell_type": "code",
   "execution_count": 19,
   "metadata": {},
   "outputs": [
    {
     "name": "stdout",
     "output_type": "stream",
     "text": [
      "\n",
      "Connection with DESKTOP-JV1HTQR\\SQLEXPRESS sucessfull!\n",
      "Current Database: WienerLinienDB\n",
      "DB Connection Status: True\n",
      "\n",
      "Table 'haltestellen' available in WienerLinienDB\n",
      "\n",
      "DB-Connection with Server DESKTOP-JV1HTQR\\SQLEXPRESS closed.\n",
      "DB Connections Status: False\n"
     ]
    }
   ],
   "source": [
    "# create table haltestellen\n",
    "sql_command = '''IF NOT EXISTS(SELECT * FROM information_schema.tables\n",
    "                 WHERE table_name='haltestellen' AND table_schema='dbo')\n",
    "                 CREATE TABLE haltestellen (\n",
    "                    [DIVA] int,\n",
    "                    [PlatformText] varchar(50),\n",
    "                    [Municipality] varchar(50),\n",
    "                    [MunicipalityID] int,\n",
    "                    [Longitude] numeric(18,6),\n",
    "                    [Latitude] numeric(18,6)\n",
    "                                     )\n",
    "                    '''\n",
    "create_table('haltestellen',sql_command, server, db_name)"
   ]
  },
  {
   "cell_type": "code",
   "execution_count": 20,
   "metadata": {},
   "outputs": [],
   "source": [
    "def fill_haltestellen(sql_command, df, server, db_name):\n",
    "    conn = db_connect(server=server, db_name=db_name)\n",
    "    with conn:\n",
    "        crs=conn.cursor()\n",
    "        #try:\n",
    "        for index, row in df.iterrows():\n",
    "            crs.execute(sql_command, row['DIVA'],\n",
    "                                     row['PlatformText'],\n",
    "                                     row['Municipality'],\n",
    "                                     row['MunicipalityID'],\n",
    "                                     row['Longitude'],\n",
    "                                     row['Latitude']\n",
    "                                    )\n",
    "        print('Table sucessfully filled!')\n",
    "        #except:\n",
    "        print('Not Sucessfull!')\n",
    "    close_connection(server = server, conn=conn)"
   ]
  },
  {
   "cell_type": "code",
   "execution_count": 21,
   "metadata": {},
   "outputs": [
    {
     "name": "stdout",
     "output_type": "stream",
     "text": [
      "\n",
      "Connection with DESKTOP-JV1HTQR\\SQLEXPRESS sucessfull!\n",
      "Current Database: WienerLinienDB\n",
      "DB Connection Status: True\n",
      "Table sucessfully filled!\n",
      "Not Sucessfull!\n",
      "\n",
      "DB-Connection with Server DESKTOP-JV1HTQR\\SQLEXPRESS closed.\n",
      "DB Connections Status: False\n"
     ]
    }
   ],
   "source": [
    "sql_command= '''INSERT INTO [dbo].[haltestellen]\n",
    "           (\n",
    "            [DIVA],\n",
    "            [PlatformText],\n",
    "            [Municipality],\n",
    "            [MunicipalityID],\n",
    "            [Longitude],\n",
    "            [Latitude]\n",
    "                                     )\n",
    "     VALUES\n",
    "           (?,\n",
    "            ?,\n",
    "            ?,\n",
    "            ?,\n",
    "            ?,\n",
    "            ?);\n",
    "'''\n",
    "fill_haltestellen(sql_command, data['clean_haltestellen'], server, db_name)"
   ]
  },
  {
   "cell_type": "markdown",
   "metadata": {},
   "source": [
    "### Create and fill fahrwegverlaeufe"
   ]
  },
  {
   "cell_type": "code",
   "execution_count": 22,
   "metadata": {},
   "outputs": [
    {
     "name": "stdout",
     "output_type": "stream",
     "text": [
      "\n",
      "Connection with DESKTOP-JV1HTQR\\SQLEXPRESS sucessfull!\n",
      "Current Database: WienerLinienDB\n",
      "DB Connection Status: True\n",
      "\n",
      "Table 'fahrwegverlaeufe' available in WienerLinienDB\n",
      "\n",
      "DB-Connection with Server DESKTOP-JV1HTQR\\SQLEXPRESS closed.\n",
      "DB Connections Status: False\n"
     ]
    }
   ],
   "source": [
    "# create table fahrwegverlaeufe\n",
    "sql_command = '''IF NOT EXISTS(SELECT * FROM information_schema.tables\n",
    "                 WHERE table_name='fahrwegverlaeufe' AND table_schema='dbo')\n",
    "                 CREATE TABLE [fahrwegverlaeufe] (\n",
    "                        [LineID] int,\n",
    "                        [PatternID] int,\n",
    "                        [StopSeqCount] int,\n",
    "                        [StopID] int\n",
    "                                                 )\n",
    "                    '''\n",
    "create_table('fahrwegverlaeufe',sql_command, server, db_name)"
   ]
  },
  {
   "cell_type": "code",
   "execution_count": 23,
   "metadata": {},
   "outputs": [],
   "source": [
    "def fill_fahrwegverlaeufe(sql_command, df, server, db_name):\n",
    "    conn = db_connect(server=server, db_name=db_name)\n",
    "    with conn:\n",
    "        crs=conn.cursor()\n",
    "        try:\n",
    "            for index, row in df.iterrows():\n",
    "                crs.execute(sql_command, int(row['LineID']),\n",
    "                                         int(row['PatternID']),\n",
    "                                         int(row['StopSeqCount']),\n",
    "                                         int(row['StopID'])\n",
    "                                        )\n",
    "            print('Table sucessfully filled!')\n",
    "        except:\n",
    "            print('Not Sucessfull!')\n",
    "    close_connection(server = server, conn=conn)"
   ]
  },
  {
   "cell_type": "code",
   "execution_count": 24,
   "metadata": {},
   "outputs": [
    {
     "name": "stdout",
     "output_type": "stream",
     "text": [
      "\n",
      "Connection with DESKTOP-JV1HTQR\\SQLEXPRESS sucessfull!\n",
      "Current Database: WienerLinienDB\n",
      "DB Connection Status: True\n",
      "Table sucessfully filled!\n",
      "\n",
      "DB-Connection with Server DESKTOP-JV1HTQR\\SQLEXPRESS closed.\n",
      "DB Connections Status: False\n"
     ]
    }
   ],
   "source": [
    "sql_command= '''INSERT INTO [dbo].[fahrwegverlaeufe]\n",
    "           (\n",
    "            [LineID],\n",
    "            [PatternID],\n",
    "            [StopSeqCount],\n",
    "            [StopID]\n",
    "                                     )\n",
    "     VALUES\n",
    "           (?,\n",
    "            ?,\n",
    "            ?,\n",
    "            ?);\n",
    "'''\n",
    "fill_fahrwegverlaeufe(sql_command, data['clean_fahrwegverlaeufe'], server, db_name)"
   ]
  },
  {
   "cell_type": "markdown",
   "metadata": {},
   "source": [
    "### Create and fill gps-punkte"
   ]
  },
  {
   "cell_type": "code",
   "execution_count": 25,
   "metadata": {},
   "outputs": [
    {
     "name": "stdout",
     "output_type": "stream",
     "text": [
      "\n",
      "Connection with DESKTOP-JV1HTQR\\SQLEXPRESS sucessfull!\n",
      "Current Database: WienerLinienDB\n",
      "DB Connection Status: True\n",
      "\n",
      "Table 'gps_punkte' available in WienerLinienDB\n",
      "\n",
      "DB-Connection with Server DESKTOP-JV1HTQR\\SQLEXPRESS closed.\n",
      "DB Connections Status: False\n"
     ]
    }
   ],
   "source": [
    "# create table fahrwegverlaeufe\n",
    "sql_command = '''IF NOT EXISTS(SELECT * FROM information_schema.tables\n",
    "                 WHERE table_name='gps_punkte' AND table_schema='dbo')\n",
    "                 CREATE TABLE [gps_punkte] (\n",
    "                    [FromStartStop] int,\n",
    "                    [ToEndStop] int,\n",
    "                    [TransportMode] int,\n",
    "                    [SeqCount] int,\n",
    "                    [Longitude] numeric(18,6),\n",
    "                    [Latitude] numeric(18,6),\n",
    "                    [DistanceFromStartPoint] int\n",
    ")\n",
    "                    '''\n",
    "create_table('gps_punkte',sql_command, server, db_name)"
   ]
  },
  {
   "cell_type": "code",
   "execution_count": 26,
   "metadata": {},
   "outputs": [],
   "source": [
    "def fill_gps_punkte(sql_command, df, server, db_name):\n",
    "    conn = db_connect(server=server, db_name=db_name)\n",
    "    with conn:\n",
    "        crs=conn.cursor()\n",
    "        try:\n",
    "            for index, row in df.iterrows():\n",
    "                crs.execute(sql_command, int(row['FromStartStop']),\n",
    "                                         int(row['ToEndStop']),\n",
    "                                         int(row['TransportMode']),\n",
    "                                         int(row['SeqCount']),\n",
    "                                         row['Longitude'],\n",
    "                                         row['Latitude'],\n",
    "                                         row['DistanceFromStartPoint'])\n",
    "            print('Table sucessfully filled!')\n",
    "        except:\n",
    "            print('Not Sucessfull!')\n",
    "    close_connection(server = server, conn=conn)"
   ]
  },
  {
   "cell_type": "code",
   "execution_count": 27,
   "metadata": {},
   "outputs": [
    {
     "name": "stdout",
     "output_type": "stream",
     "text": [
      "\n",
      "Connection with DESKTOP-JV1HTQR\\SQLEXPRESS sucessfull!\n",
      "Current Database: WienerLinienDB\n",
      "DB Connection Status: True\n",
      "Table sucessfully filled!\n",
      "\n",
      "DB-Connection with Server DESKTOP-JV1HTQR\\SQLEXPRESS closed.\n",
      "DB Connections Status: False\n"
     ]
    }
   ],
   "source": [
    "sql_command= '''INSERT INTO [dbo].[gps_punkte]\n",
    "           (\n",
    "            [FromStartStop],\n",
    "            [ToEndStop],\n",
    "            [TransportMode],\n",
    "            [SeqCount],\n",
    "            [Longitude],\n",
    "            [Latitude],\n",
    "            [DistanceFromStartPoint]\n",
    "            )\n",
    "     VALUES\n",
    "           (?,\n",
    "            ?,\n",
    "            ?,\n",
    "            ?,\n",
    "            ?,\n",
    "            ?,\n",
    "            ?);\n",
    "'''\n",
    "fill_gps_punkte(sql_command, data['clean_gps-punkte'], server, db_name)"
   ]
  },
  {
   "cell_type": "markdown",
   "metadata": {},
   "source": [
    "### Create and fill steige"
   ]
  },
  {
   "cell_type": "code",
   "execution_count": 28,
   "metadata": {},
   "outputs": [
    {
     "name": "stdout",
     "output_type": "stream",
     "text": [
      "\n",
      "Connection with DESKTOP-JV1HTQR\\SQLEXPRESS sucessfull!\n",
      "Current Database: WienerLinienDB\n",
      "DB Connection Status: True\n",
      "\n",
      "Table 'steige' available in WienerLinienDB\n",
      "\n",
      "DB-Connection with Server DESKTOP-JV1HTQR\\SQLEXPRESS closed.\n",
      "DB Connections Status: False\n"
     ]
    }
   ],
   "source": [
    "# create table fahrwegverlaeufe\n",
    "sql_command = '''IF NOT EXISTS(SELECT * FROM information_schema.tables\n",
    "                 WHERE table_name='steige' AND table_schema='dbo')\n",
    "                 CREATE TABLE [steige] (\n",
    "                    [StopID] int,\n",
    "                    [Platform] varchar(50)\n",
    "                                            )\n",
    "                    '''\n",
    "create_table('steige',sql_command, server, db_name)"
   ]
  },
  {
   "cell_type": "code",
   "execution_count": 29,
   "metadata": {},
   "outputs": [],
   "source": [
    "def fill_steige(sql_command, df, server, db_name):\n",
    "    conn = db_connect(server=server, db_name=db_name)\n",
    "    with conn:\n",
    "        crs=conn.cursor()\n",
    "        try:\n",
    "            for index, row in df.iterrows():\n",
    "                crs.execute(sql_command, int(row['StopID']),\n",
    "                                         row['Platform']\n",
    "                                        )\n",
    "            print('Table sucessfully filled!')\n",
    "        except:\n",
    "            print('Not Sucessfull!')\n",
    "    close_connection(server = server, conn=conn)"
   ]
  },
  {
   "cell_type": "code",
   "execution_count": 30,
   "metadata": {},
   "outputs": [
    {
     "name": "stdout",
     "output_type": "stream",
     "text": [
      "\n",
      "Connection with DESKTOP-JV1HTQR\\SQLEXPRESS sucessfull!\n",
      "Current Database: WienerLinienDB\n",
      "DB Connection Status: True\n",
      "Table sucessfully filled!\n",
      "\n",
      "DB-Connection with Server DESKTOP-JV1HTQR\\SQLEXPRESS closed.\n",
      "DB Connections Status: False\n"
     ]
    }
   ],
   "source": [
    "sql_command= '''INSERT INTO [dbo].[steige]\n",
    "           (\n",
    "            [StopID],\n",
    "            [Platform]\n",
    "            )\n",
    "     VALUES\n",
    "           (?,\n",
    "            ?);\n",
    "'''\n",
    "fill_steige(sql_command, data['clean_steige'], server, db_name)"
   ]
  },
  {
   "cell_type": "markdown",
   "metadata": {},
   "source": [
    "### Create stage_delay"
   ]
  },
  {
   "cell_type": "code",
   "execution_count": 31,
   "metadata": {},
   "outputs": [
    {
     "name": "stdout",
     "output_type": "stream",
     "text": [
      "\n",
      "Connection with DESKTOP-JV1HTQR\\SQLEXPRESS sucessfull!\n",
      "Current Database: WienerLinienDB\n",
      "DB Connection Status: True\n",
      "\n",
      "Table 'stage_delay' available in WienerLinienDB\n",
      "\n",
      "DB-Connection with Server DESKTOP-JV1HTQR\\SQLEXPRESS closed.\n",
      "DB Connections Status: False\n"
     ]
    }
   ],
   "source": [
    "# create table stage_delay\n",
    "sql_command = '''IF NOT EXISTS(SELECT * FROM information_schema.tables\n",
    "                 WHERE table_name='stage_delay' AND table_schema='dbo')\n",
    "                 CREATE TABLE stage_delay (\n",
    "                    [timestamp] datetime2,\n",
    "                    [stop_name] varchar(100),\n",
    "                    [line_name] varchar(50),\n",
    "                    [lineID] varchar(50),\n",
    "                    [towards] varchar(100),\n",
    "                    [richtungsID] varchar(50),\n",
    "                    [type] varchar(50),\n",
    "                    [timePlanned] datetime2,\n",
    "                    [timeReal] datetime2,\n",
    "                    [DIVA] int,\n",
    "                    [rbl] int,\n",
    "                    [delay] numeric(18,0))\n",
    "                '''\n",
    "\n",
    "create_table('stage_delay', sql_command, server, db_name)"
   ]
  },
  {
   "cell_type": "markdown",
   "metadata": {},
   "source": [
    "### Create delay"
   ]
  },
  {
   "cell_type": "code",
   "execution_count": 32,
   "metadata": {},
   "outputs": [
    {
     "name": "stdout",
     "output_type": "stream",
     "text": [
      "\n",
      "Connection with DESKTOP-JV1HTQR\\SQLEXPRESS sucessfull!\n",
      "Current Database: WienerLinienDB\n",
      "DB Connection Status: True\n",
      "\n",
      "Table 'delay' available in WienerLinienDB\n",
      "\n",
      "DB-Connection with Server DESKTOP-JV1HTQR\\SQLEXPRESS closed.\n",
      "DB Connections Status: False\n"
     ]
    }
   ],
   "source": [
    "# create table delay\n",
    "sql_command = '''IF NOT EXISTS(SELECT * FROM information_schema.tables\n",
    "                 WHERE table_name='delay' AND table_schema='dbo')\n",
    "                 CREATE TABLE delay (\n",
    "                    [timestamp] datetime2,\n",
    "                    [stop_name] varchar(100),\n",
    "                    [line_name] varchar(50),\n",
    "                    [lineID] varchar(50),\n",
    "                    [towards] varchar(100),\n",
    "                    [richtungsID] varchar(50),\n",
    "                    [type] varchar(50),\n",
    "                    [timePlanned] datetime2,\n",
    "                    [timeReal] datetime2,\n",
    "                    [DIVA] int,\n",
    "                    [rbl] int,\n",
    "                    [delay] numeric(18,0))\n",
    "                '''\n",
    "\n",
    "create_table('delay', sql_command, server, db_name)"
   ]
  },
  {
   "cell_type": "markdown",
   "metadata": {},
   "source": [
    "It looks like everything works now. \n",
    "# Next Steps\n",
    "___\n",
    "Now in the next step a script for extracting live data from the Wiener Linien API will be developed. This file's name is `API_Extraction`."
   ]
  }
 ],
 "metadata": {
  "kernelspec": {
   "display_name": "Python 3",
   "language": "python",
   "name": "python3"
  },
  "language_info": {
   "codemirror_mode": {
    "name": "ipython",
    "version": 3
   },
   "file_extension": ".py",
   "mimetype": "text/x-python",
   "name": "python",
   "nbconvert_exporter": "python",
   "pygments_lexer": "ipython3",
   "version": "3.7.6"
  },
  "toc": {
   "base_numbering": 1,
   "nav_menu": {},
   "number_sections": true,
   "sideBar": true,
   "skip_h1_title": false,
   "title_cell": "Table of Contents",
   "title_sidebar": "Contents",
   "toc_cell": false,
   "toc_position": {
    "height": "calc(100% - 180px)",
    "left": "10px",
    "top": "150px",
    "width": "256px"
   },
   "toc_section_display": true,
   "toc_window_display": false
  }
 },
 "nbformat": 4,
 "nbformat_minor": 4
}
