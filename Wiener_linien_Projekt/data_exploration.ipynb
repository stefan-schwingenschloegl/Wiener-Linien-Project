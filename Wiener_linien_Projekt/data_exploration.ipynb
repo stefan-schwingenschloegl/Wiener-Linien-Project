{
 "cells": [
  {
   "cell_type": "markdown",
   "metadata": {},
   "source": [
    "# Data Visualization <a class=\"tocSkip\">\n",
    "Author: Stefan Roland Schwingenschlögl <br>\n",
    "email: stefan.roland.schwingenschloegl@gmail.com <br>\n",
    "github: github.com/stefan-schwingenschloegl <br>\n",
    "___\n",
    "*Projekt File No: 5 <br>*\n",
    "    \n",
    "After collecting data for the stations in the last file 'API_extraction.ipynb', this notebook analyses the data to answer the question. As a reminder, the question was at which of the stations considered the least deviations of public transport from the planned departure time occurred. For this purpose, the data is extracted from the database and cleaned and processed using pandas. Afterwards, the data is visualised using seaborn and matplotlib. In the last part, the research question is answered and the limitations are mentioned. In addition, further steps for extensions are shown."
   ]
  },
  {
   "cell_type": "markdown",
   "metadata": {},
   "source": [
    "# Set General Properties"
   ]
  },
  {
   "cell_type": "code",
   "execution_count": 1,
   "metadata": {},
   "outputs": [],
   "source": [
    "import numpy as np\n",
    "import pandas as pd\n",
    "\n",
    "import pyodbc\n",
    "\n",
    "import matplotlib.pyplot as plt\n",
    "import seaborn as sns"
   ]
  },
  {
   "cell_type": "code",
   "execution_count": 2,
   "metadata": {},
   "outputs": [],
   "source": [
    "# set the path to the Wiener Linien API documentation\n",
    "wl_docu_url = 'http://www.wienerlinien.at/ogd_realtime/doku/'\n",
    "\n",
    "# set the URL to the Wiener Linien API real time monitor\n",
    "wl_monitor_url = 'http://www.wienerlinien.at/ogd_realtime/monitor?'\n",
    "\n",
    "# set consistens figure dimensions\n",
    "fig_dim = (10, 5)\n",
    "\n",
    "# hexadecimal colorcode palette from the Wiener Linien logo\n",
    "wl_col = ['#e3010f', '#240b4c', '#f8ecec', '#db7778', '#ce5155', '#be919e', '#7c8494']\n",
    "wl_palette = sns.color_palette(wl_col)\n",
    "\n",
    "# set plot style\n",
    "plt.style.use('ggplot')\n",
    "\n",
    "# set properties for database\n",
    "db_name = 'WienerLinienDB'\n",
    "server = 'DESKTOP-JV1HTQR\\SQLEXPRESS'\n",
    "db_connection = False"
   ]
  },
  {
   "cell_type": "markdown",
   "metadata": {},
   "source": [
    "# Initialize general methods for Database Connection"
   ]
  },
  {
   "cell_type": "code",
   "execution_count": 3,
   "metadata": {},
   "outputs": [],
   "source": [
    "# establish DB Connection\n",
    "def db_connect(server, db_name):\n",
    "    \"\"\"\n",
    "    Establish database connection\n",
    "    \n",
    "    input args: server, db_name as string format\n",
    "    return args: database connection object\n",
    "    \"\"\"\n",
    "    conn = pyodbc.connect(\"driver={SQL Server};server=\"+server+\"; database=\"+db_name+\"; trusted_connection=true\")\n",
    "    db_connection = True\n",
    "   # print(f\"\\nConnection with {server} sucessfull!\\n\"\n",
    "    #      f\"Current Database: {db_name}\\n\"\n",
    "    #      f\"DB Connection Status: {db_connection}\")\n",
    "    return conn"
   ]
  },
  {
   "cell_type": "code",
   "execution_count": 4,
   "metadata": {},
   "outputs": [],
   "source": [
    "# close DB Connection\n",
    "def close_connection(server, conn):\n",
    "    conn.close()\n",
    "    db_connection = False\n",
    "   # print(f\"\\nDB-Connection with Server {server} closed.\\n\"\n",
    "   #       f\"DB Connections Status: {db_connection}\")"
   ]
  },
  {
   "cell_type": "markdown",
   "metadata": {},
   "source": [
    "# Extract all entries from Database"
   ]
  },
  {
   "cell_type": "code",
   "execution_count": 5,
   "metadata": {},
   "outputs": [],
   "source": [
    "# method for extract all entries from the database\n",
    "def get_stage_delay():\n",
    "    conn = db_connect(server, db_name)\n",
    "    with conn:\n",
    "        df = pd.read_sql(f\"select * from stage_delay order by timestamp desc\", conn)\n",
    "    \n",
    "    close_connection(server, conn)\n",
    "    \n",
    "    return df"
   ]
  },
  {
   "cell_type": "code",
   "execution_count": 6,
   "metadata": {},
   "outputs": [],
   "source": [
    "# extract data and save it into a pandas Dataframe\n",
    "df = get_stage_delay()"
   ]
  },
  {
   "cell_type": "markdown",
   "metadata": {},
   "source": [
    "# Data Preprocessing and Exploration\n",
    "In this step, the data is analysed in principle and the data quality is assessed. Possible unrealistic values are edited or deleted.\n",
    "##  Basic Data Exploration"
   ]
  },
  {
   "cell_type": "code",
   "execution_count": 7,
   "metadata": {},
   "outputs": [
    {
     "data": {
      "text/plain": [
       "(14342, 12)"
      ]
     },
     "execution_count": 7,
     "metadata": {},
     "output_type": "execute_result"
    }
   ],
   "source": [
    "df.shape"
   ]
  },
  {
   "cell_type": "code",
   "execution_count": 8,
   "metadata": {},
   "outputs": [
    {
     "data": {
      "text/plain": [
       "timestamp       object\n",
       "stop_name       object\n",
       "line_name       object\n",
       "lineID          object\n",
       "towards         object\n",
       "richtungsID     object\n",
       "type            object\n",
       "timePlanned     object\n",
       "timeReal        object\n",
       "DIVA             int64\n",
       "rbl              int64\n",
       "delay          float64\n",
       "dtype: object"
      ]
     },
     "execution_count": 8,
     "metadata": {},
     "output_type": "execute_result"
    }
   ],
   "source": [
    "df.dtypes"
   ]
  },
  {
   "cell_type": "markdown",
   "metadata": {},
   "source": [
    "It can be seen that there are a total of 14432 lines which have 12 attributes. Additionally only `DIVA`, `rbl` and `delay` are numeric values. `timestamp`, `timeReal` and `timePlanned` should be a datetime type, `lineID` and `richtungsID` can be interpreted as integer while everything else should be the type `category`. In the next step this the columns will be adjusted.\n",
    "\n",
    "The values for missing `timestamp`, `timeReal` and `timePlanned` were set inside the `fill_na`-method in the `API_Extraction.ipynb` to **9999-12-31 23:59:59+01:00**. Now these values should be casted from type object to datetime with the pandas `to_datetime`-method. However the big value is to high for this data type. After searching for possible reasons why there is a *Out-of-Bounds-Error* I read in the [docs](http://pandas-docs.github.io/pandas-docs-travis/user_guide/timeseries.html#timeseries-timestamp-limits) that the date is too big. Therefore all of these big values will be set to `Not-A-Date` values. This will be done with the `errors = 'coerce'` argument."
   ]
  },
  {
   "cell_type": "code",
   "execution_count": 9,
   "metadata": {},
   "outputs": [
    {
     "name": "stdout",
     "output_type": "stream",
     "text": [
      "Types before: \n",
      "timestamp       object\n",
      "stop_name       object\n",
      "line_name       object\n",
      "lineID          object\n",
      "towards         object\n",
      "richtungsID     object\n",
      "type            object\n",
      "timePlanned     object\n",
      "timeReal        object\n",
      "DIVA             int64\n",
      "rbl              int64\n",
      "delay          float64\n",
      "dtype: object\n",
      "\n",
      "Types afterwards: \n",
      "timestamp      datetime64[ns]\n",
      "stop_name            category\n",
      "line_name            category\n",
      "lineID                  int64\n",
      "towards              category\n",
      "richtungsID             int64\n",
      "type                 category\n",
      "timePlanned    datetime64[ns]\n",
      "timeReal       datetime64[ns]\n",
      "DIVA                    int64\n",
      "rbl                     int64\n",
      "delay                 float64\n",
      "dtype: object\n"
     ]
    }
   ],
   "source": [
    "# cast all string columns to category and all numeric columns to int, besides datetime and float types\n",
    "def cast_columns(df):\n",
    "    print(f'Types before: \\n{df.dtypes}\\n')\n",
    "    for col in df.columns:\n",
    "        if 'time' in col:\n",
    "            df[col] = pd.to_datetime(df[col], errors = 'coerce')\n",
    "            continue\n",
    "        elif df[col].dtypes == 'float64':\n",
    "            continue\n",
    "        try: \n",
    "            df[col] = df[col].astype('int64')\n",
    "        except ValueError:\n",
    "            df[col] = df[col].astype('category')\n",
    "    print(f'Types afterwards: \\n{df.dtypes}')\n",
    "    return df\n",
    "\n",
    "df = cast_columns(df)"
   ]
  },
  {
   "cell_type": "markdown",
   "metadata": {},
   "source": [
    "It can be seen that all of this categories got converted sucessfully. Now it is time to look a little more closely at the information in the data."
   ]
  },
  {
   "cell_type": "markdown",
   "metadata": {},
   "source": [
    "## Data Cleaning\n",
    "In this section the data will be checked and cleaned. First, the missing values are considered. Then it is checked whether a certain means of transport frequently delivers unusual values.\n",
    "\n",
    "### Process missing Values"
   ]
  },
  {
   "cell_type": "code",
   "execution_count": 10,
   "metadata": {},
   "outputs": [
    {
     "name": "stdout",
     "output_type": "stream",
     "text": [
      "                timestamp            stop_name line_name  lineID  \\\n",
      "30    2021-02-02 21:58:00  Kardinal-Nagl-Platz        U3     303   \n",
      "285   2021-02-02 21:43:00  Kardinal-Nagl-Platz        U3     303   \n",
      "457   2021-02-02 21:33:00           Schönbrunn        U4     304   \n",
      "540   2021-02-02 21:27:59  Kardinal-Nagl-Platz        U3     303   \n",
      "778   2021-02-02 21:13:59  Kardinal-Nagl-Platz        U3     303   \n",
      "967   2021-02-02 21:02:59           Schönbrunn        U4     304   \n",
      "1169  2021-02-02 20:50:59  Kardinal-Nagl-Platz        U3     303   \n",
      "1424  2021-02-02 20:35:00  Kardinal-Nagl-Platz        U3     303   \n",
      "3221  2021-02-02 18:51:59           Schönbrunn        U4     304   \n",
      "3239  2021-02-02 18:51:00           Schönbrunn        U4     304   \n",
      "3452  2021-02-02 18:39:00  Kardinal-Nagl-Platz        U3     303   \n",
      "5973  2021-02-02 16:13:59  Kardinal-Nagl-Platz        U3     303   \n",
      "9424  2021-02-02 12:55:59  Kardinal-Nagl-Platz        U3     303   \n",
      "10973 2021-02-02 11:24:00  Kardinal-Nagl-Platz        U3     303   \n",
      "10991 2021-02-02 11:23:00  Kardinal-Nagl-Platz        U3     303   \n",
      "11225 2021-02-02 11:09:00  Kardinal-Nagl-Platz        U3     303   \n",
      "11243 2021-02-02 11:08:00  Kardinal-Nagl-Platz        U3     303   \n",
      "12016 2021-02-02 10:23:59  Kardinal-Nagl-Platz        U3     303   \n",
      "12179 2021-02-02 10:15:00  Kardinal-Nagl-Platz        U3     303   \n",
      "12197 2021-02-02 10:14:00  Kardinal-Nagl-Platz        U3     303   \n",
      "\n",
      "                                                 towards  richtungsID  \\\n",
      "30     SIMMERING * SIMMERING _10 SIMMERING * SIMMERIN...            1   \n",
      "285    SIMMERING _* SIMMERING _10 SIMMERING _ * SIMME...            1   \n",
      "457    HEILIGENSTADT * HEILIGENSTADT _10 HEILIGENSTAD...            1   \n",
      "540    SIMMERING * SIMMERING _10 SIMMERING * SIMMERIN...            1   \n",
      "778    SIMMERING _* SIMMERING _10 SIMMERING _ * SIMME...            1   \n",
      "967    HEILIGENSTADT _* HEILIGENSTADT _10 HEILIGENSTA...            1   \n",
      "1169   SIMMERING * SIMMERING _10 SIMMERING * SIMMERIN...            1   \n",
      "1424   SIMMERING _* SIMMERING _10 SIMMERING _ * SIMME...            1   \n",
      "3221                HÜTTELDORF FFP2-MASKEN TRAGEPFLICHT!            2   \n",
      "3239                HÜTTELDORF FFP2-MASKEN TRAGEPFLICHT!            2   \n",
      "3452   SIMMERING _* SIMMERING _10 SIMMERING _ * SIMME...            1   \n",
      "5973                          _ * OTTAKRING _* OTTAKRING            2   \n",
      "9424                      SONDERZUG BITTE ZURÜCKTRETEN !            1   \n",
      "10973                     SONDERZUG BITTE ZURÜCKTRETEN !            2   \n",
      "10991                     SONDERZUG BITTE ZURÜCKTRETEN !            2   \n",
      "11225                     SONDERZUG BITTE ZURÜCKTRETEN !            2   \n",
      "11243                     SONDERZUG BITTE ZURÜCKTRETEN !            2   \n",
      "12016                     SONDERZUG BITTE ZURÜCKTRETEN !            1   \n",
      "12179                     SONDERZUG BITTE ZURÜCKTRETEN !            2   \n",
      "12197                     SONDERZUG BITTE ZURÜCKTRETEN !            2   \n",
      "\n",
      "          type timePlanned timeReal      DIVA   rbl     delay  \n",
      "30     ptMetro         NaT      NaT  60200653  4915 -100000.0  \n",
      "285    ptMetro         NaT      NaT  60200653  4915 -100000.0  \n",
      "457    ptMetro         NaT      NaT  60201211  4411 -100000.0  \n",
      "540    ptMetro         NaT      NaT  60200653  4915 -100000.0  \n",
      "778    ptMetro         NaT      NaT  60200653  4915 -100000.0  \n",
      "967    ptMetro         NaT      NaT  60201211  4411 -100000.0  \n",
      "1169   ptMetro         NaT      NaT  60200653  4915 -100000.0  \n",
      "1424   ptMetro         NaT      NaT  60200653  4915 -100000.0  \n",
      "3221   ptMetro         NaT      NaT  60201211  4426 -100000.0  \n",
      "3239   ptMetro         NaT      NaT  60201211  4426 -100000.0  \n",
      "3452   ptMetro         NaT      NaT  60200653  4915 -100000.0  \n",
      "5973   ptMetro         NaT      NaT  60200653  4902 -100000.0  \n",
      "9424   ptMetro         NaT      NaT  60200653  4915 -100000.0  \n",
      "10973  ptMetro         NaT      NaT  60200653  4902 -100000.0  \n",
      "10991  ptMetro         NaT      NaT  60200653  4902 -100000.0  \n",
      "11225  ptMetro         NaT      NaT  60200653  4902 -100000.0  \n",
      "11243  ptMetro         NaT      NaT  60200653  4902 -100000.0  \n",
      "12016  ptMetro         NaT      NaT  60200653  4915 -100000.0  \n",
      "12179  ptMetro         NaT      NaT  60200653  4902 -100000.0  \n",
      "12197  ptMetro         NaT      NaT  60200653  4902 -100000.0  \n"
     ]
    },
    {
     "data": {
      "image/png": "[encoded data removed]",
      "text/plain": [
       "<Figure size 1440x1080 with 2 Axes>"
      ]
     },
     "metadata": {},
     "output_type": "display_data"
    }
   ],
   "source": [
    "def get_amount_of_na(df):\n",
    "    amount = df.isna().sum().sum().astype(str)\n",
    "    return amount\n",
    "\n",
    "def visualize_na(df, fig_dim):\n",
    "    missing_values = get_amount_of_na(df)\n",
    "        \n",
    "    plt.figure(figsize = (20, 15))\n",
    "    ax = sns.heatmap(df.isna(),\n",
    "            yticklabels=False,\n",
    "            vmin=0,\n",
    "            vmax=1,\n",
    "            cmap=wl_palette[:2],\n",
    "            cbar=True)\n",
    "    ax.set_title(f'{missing_values} missing Values')\n",
    "    cbar = ax.collections[0].colorbar\n",
    "    cbar.set_ticks([0.25, 0.75])\n",
    "    cbar.set_ticklabels(['not missing', 'missing'])\n",
    "    \n",
    "    if int(missing_values) > 0:\n",
    "        print(df[df.isnull().any(axis=1)])\n",
    "    \n",
    "\n",
    "visualize_na(df, fig_dim)  "
   ]
  },
  {
   "cell_type": "markdown",
   "metadata": {},
   "source": [
    "So there are 16 mising values in the dataset. Due to the fact that singely rows are to small this is not visible in the graphics. It can be seen that only a few entries are not valid. Most of the entries have no missing values in it. \n",
    "\n",
    "All of the missing values are Metros and it seems that they are special trains. It is not possible to board this trains for public persons. Therefore I will remove the missing values."
   ]
  },
  {
   "cell_type": "code",
   "execution_count": 11,
   "metadata": {},
   "outputs": [],
   "source": [
    "# drop all rows with missing values in it\n",
    "df = df.dropna()"
   ]
  },
  {
   "cell_type": "markdown",
   "metadata": {},
   "source": [
    "### Inspect delay by type of transport"
   ]
  },
  {
   "cell_type": "code",
   "execution_count": 12,
   "metadata": {},
   "outputs": [],
   "source": [
    "def validate_input(x, y):\n",
    "    if x not in df.columns or y not in df.columns:\n",
    "        raise ValueError('At least one of your input arguments is not in the columns of the dataframe. Please check!')"
   ]
  },
  {
   "cell_type": "code",
   "execution_count": 46,
   "metadata": {},
   "outputs": [
    {
     "data": {
      "image/png": "[encoded data removed]",
      "text/plain": [
       "<Figure size 720x360 with 1 Axes>"
      ]
     },
     "metadata": {},
     "output_type": "display_data"
    }
   ],
   "source": [
    "def plot_boxplot(df, x, y, fig_dim = (10,5)):\n",
    "    validate_input(x,y)\n",
    "        \n",
    "    plt.figure(figsize = fig_dim)\n",
    "    ax = sns.boxplot(x=x,\n",
    "                     y=y,\n",
    "                     data=df,\n",
    "                     color = wl_palette[0])\n",
    "    ax.set_title(f\"Distribution of '{y}' grouped by '{x}'\")\n",
    "    ax.set_xticklabels(ax.get_xticklabels(), \n",
    "                          rotation=45,\n",
    "                          ha='right')\n",
    "    \n",
    "\n",
    "plot_boxplot(df,'type', 'delay', fig_dim)"
   ]
  },
  {
   "cell_type": "code",
   "execution_count": 14,
   "metadata": {},
   "outputs": [
    {
     "data": {
      "text/html": [
       "<div>\n",
       "<style scoped>\n",
       "    .dataframe tbody tr th:only-of-type {\n",
       "        vertical-align: middle;\n",
       "    }\n",
       "\n",
       "    .dataframe tbody tr th {\n",
       "        vertical-align: top;\n",
       "    }\n",
       "\n",
       "    .dataframe thead tr th {\n",
       "        text-align: left;\n",
       "    }\n",
       "\n",
       "    .dataframe thead tr:last-of-type th {\n",
       "        text-align: right;\n",
       "    }\n",
       "</style>\n",
       "<table border=\"1\" class=\"dataframe\">\n",
       "  <thead>\n",
       "    <tr>\n",
       "      <th></th>\n",
       "      <th colspan=\"8\" halign=\"left\">delay</th>\n",
       "    </tr>\n",
       "    <tr>\n",
       "      <th></th>\n",
       "      <th>count</th>\n",
       "      <th>mean</th>\n",
       "      <th>std</th>\n",
       "      <th>min</th>\n",
       "      <th>25%</th>\n",
       "      <th>50%</th>\n",
       "      <th>75%</th>\n",
       "      <th>max</th>\n",
       "    </tr>\n",
       "    <tr>\n",
       "      <th>type</th>\n",
       "      <th></th>\n",
       "      <th></th>\n",
       "      <th></th>\n",
       "      <th></th>\n",
       "      <th></th>\n",
       "      <th></th>\n",
       "      <th></th>\n",
       "      <th></th>\n",
       "    </tr>\n",
       "  </thead>\n",
       "  <tbody>\n",
       "    <tr>\n",
       "      <th>ptBusCity</th>\n",
       "      <td>7882.0</td>\n",
       "      <td>28.755392</td>\n",
       "      <td>105.867247</td>\n",
       "      <td>-770.0</td>\n",
       "      <td>-30.0</td>\n",
       "      <td>9.0</td>\n",
       "      <td>78.0</td>\n",
       "      <td>1441.0</td>\n",
       "    </tr>\n",
       "    <tr>\n",
       "      <th>ptMetro</th>\n",
       "      <td>3176.0</td>\n",
       "      <td>0.000000</td>\n",
       "      <td>0.000000</td>\n",
       "      <td>0.0</td>\n",
       "      <td>0.0</td>\n",
       "      <td>0.0</td>\n",
       "      <td>0.0</td>\n",
       "      <td>0.0</td>\n",
       "    </tr>\n",
       "    <tr>\n",
       "      <th>ptTram</th>\n",
       "      <td>3264.0</td>\n",
       "      <td>14.034007</td>\n",
       "      <td>91.796139</td>\n",
       "      <td>-325.0</td>\n",
       "      <td>-30.0</td>\n",
       "      <td>0.0</td>\n",
       "      <td>48.0</td>\n",
       "      <td>761.0</td>\n",
       "    </tr>\n",
       "  </tbody>\n",
       "</table>\n",
       "</div>"
      ],
      "text/plain": [
       "            delay                                                       \n",
       "            count       mean         std    min   25%  50%   75%     max\n",
       "type                                                                    \n",
       "ptBusCity  7882.0  28.755392  105.867247 -770.0 -30.0  9.0  78.0  1441.0\n",
       "ptMetro    3176.0   0.000000    0.000000    0.0   0.0  0.0   0.0     0.0\n",
       "ptTram     3264.0  14.034007   91.796139 -325.0 -30.0  0.0  48.0   761.0"
      ]
     },
     "execution_count": 14,
     "metadata": {},
     "output_type": "execute_result"
    }
   ],
   "source": [
    "df[['type','delay']].groupby('type').describe()"
   ]
  },
  {
   "cell_type": "markdown",
   "metadata": {},
   "source": [
    "It can be seen that there is no dispersion in the delays of the metro. Upon further investigation, it can be seen that not a single metro was even a single second late or early. From my own experience I can say that this is not really realistic ;-) <br>\n",
    "Overall, no delays were indicated despite the Real Time Support displayed. Therefore, entries coming from an metro cannot be taken into account. Therefore, only buses and trams can be evaluated. This reduces the data stock considerably. Consequently, only buses and trams can be analysed. This is a clear limitation in the statement of the entire analysis, as for me the metro is usually the preferred means of transport.The remaining values look realistic and will be kept."
   ]
  },
  {
   "cell_type": "code",
   "execution_count": 15,
   "metadata": {},
   "outputs": [],
   "source": [
    "df = df.loc[df['type'] != 'ptMetro']\n",
    "df['type'].cat.remove_unused_categories(inplace=True)"
   ]
  },
  {
   "cell_type": "code",
   "execution_count": 16,
   "metadata": {},
   "outputs": [
    {
     "data": {
      "text/html": [
       "<div>\n",
       "<style scoped>\n",
       "    .dataframe tbody tr th:only-of-type {\n",
       "        vertical-align: middle;\n",
       "    }\n",
       "\n",
       "    .dataframe tbody tr th {\n",
       "        vertical-align: top;\n",
       "    }\n",
       "\n",
       "    .dataframe thead tr th {\n",
       "        text-align: left;\n",
       "    }\n",
       "\n",
       "    .dataframe thead tr:last-of-type th {\n",
       "        text-align: right;\n",
       "    }\n",
       "</style>\n",
       "<table border=\"1\" class=\"dataframe\">\n",
       "  <thead>\n",
       "    <tr>\n",
       "      <th></th>\n",
       "      <th colspan=\"8\" halign=\"left\">delay</th>\n",
       "    </tr>\n",
       "    <tr>\n",
       "      <th></th>\n",
       "      <th>count</th>\n",
       "      <th>mean</th>\n",
       "      <th>std</th>\n",
       "      <th>min</th>\n",
       "      <th>25%</th>\n",
       "      <th>50%</th>\n",
       "      <th>75%</th>\n",
       "      <th>max</th>\n",
       "    </tr>\n",
       "    <tr>\n",
       "      <th>type</th>\n",
       "      <th></th>\n",
       "      <th></th>\n",
       "      <th></th>\n",
       "      <th></th>\n",
       "      <th></th>\n",
       "      <th></th>\n",
       "      <th></th>\n",
       "      <th></th>\n",
       "    </tr>\n",
       "  </thead>\n",
       "  <tbody>\n",
       "    <tr>\n",
       "      <th>ptBusCity</th>\n",
       "      <td>7882.0</td>\n",
       "      <td>28.755392</td>\n",
       "      <td>105.867247</td>\n",
       "      <td>-770.0</td>\n",
       "      <td>-30.0</td>\n",
       "      <td>9.0</td>\n",
       "      <td>78.0</td>\n",
       "      <td>1441.0</td>\n",
       "    </tr>\n",
       "    <tr>\n",
       "      <th>ptTram</th>\n",
       "      <td>3264.0</td>\n",
       "      <td>14.034007</td>\n",
       "      <td>91.796139</td>\n",
       "      <td>-325.0</td>\n",
       "      <td>-30.0</td>\n",
       "      <td>0.0</td>\n",
       "      <td>48.0</td>\n",
       "      <td>761.0</td>\n",
       "    </tr>\n",
       "  </tbody>\n",
       "</table>\n",
       "</div>"
      ],
      "text/plain": [
       "            delay                                                       \n",
       "            count       mean         std    min   25%  50%   75%     max\n",
       "type                                                                    \n",
       "ptBusCity  7882.0  28.755392  105.867247 -770.0 -30.0  9.0  78.0  1441.0\n",
       "ptTram     3264.0  14.034007   91.796139 -325.0 -30.0  0.0  48.0   761.0"
      ]
     },
     "execution_count": 16,
     "metadata": {},
     "output_type": "execute_result"
    }
   ],
   "source": [
    "df[['type','delay']].groupby('type').describe()"
   ]
  },
  {
   "cell_type": "markdown",
   "metadata": {},
   "source": [
    "### Number of entries by stopname\n",
    "In the next step, the number of entries per station is displayed. The human-readable column 'stop_names' is used for this. "
   ]
  },
  {
   "cell_type": "code",
   "execution_count": 20,
   "metadata": {},
   "outputs": [
    {
     "data": {
      "image/png": "[encoded data removed]",
      "text/plain": [
       "<Figure size 720x360 with 1 Axes>"
      ]
     },
     "metadata": {},
     "output_type": "display_data"
    }
   ],
   "source": [
    "def val_count(df, col, hue=None):\n",
    "    if col not in df.columns:\n",
    "        raise ValueError('At least one of your input arguments is not in the columns of the dataframe. Please check!')\n",
    "        \n",
    "    plt.figure(figsize = fig_dim)\n",
    "    ax = sns.countplot(x=col,\n",
    "                       data=df,\n",
    "                       color=wl_palette[0],\n",
    "                       order=df[col].value_counts().index,\n",
    "                       hue=hue)\n",
    "    \n",
    "    ax.set_title(f\"Count of entries per '{col}''\")\n",
    "    ax.set_xticklabels(ax.get_xticklabels(), \n",
    "                          rotation=45,\n",
    "                          ha='right')\n",
    "    \n",
    "val_count(df, 'stop_name')"
   ]
  },
  {
   "cell_type": "markdown",
   "metadata": {},
   "source": [
    "Here you can see that the two stations 'Schönbrunn' and 'Kardinal-Nagl-Platz' probably only provided entries that were used by underground trains. Therefore, these two stop_names can also be dropped in this analysis. <br>\n",
    "It is also interesting that there are probably two entries with the name 'Gudrunstraße'. In the next step, it would be interesting to see what the difference is. It is also interesting that 'Laxenburger Straße/Gudrunstraße' is listed separately. These three stop_names will be given attention in the next step.\n",
    "___"
   ]
  },
  {
   "cell_type": "markdown",
   "metadata": {},
   "source": [
    "#### Stops which contain 'Gudrunstraße' in their 'stop_name'"
   ]
  },
  {
   "cell_type": "code",
   "execution_count": 21,
   "metadata": {},
   "outputs": [
    {
     "data": {
      "text/plain": [
       "array([60200136], dtype=int64)"
      ]
     },
     "execution_count": 21,
     "metadata": {},
     "output_type": "execute_result"
    }
   ],
   "source": [
    "# get DIVA name of all stops which contains 'Gudrunstraße'\n",
    "df.loc[df['stop_name'].str.contains('Gudrunstraße'), 'DIVA'].unique()"
   ]
  },
  {
   "cell_type": "code",
   "execution_count": 88,
   "metadata": {},
   "outputs": [
    {
     "data": {
      "text/plain": [
       "[14A]\n",
       "Categories (1, object): [14A]"
      ]
     },
     "execution_count": 88,
     "metadata": {},
     "output_type": "execute_result"
    }
   ],
   "source": [
    "# all lines which stop at 'Laxenburger Straße / Gudrunstraße'\n",
    "df.loc[df['stop_name'] == 'Laxenburger Straße / Gudrunstraße', 'line_name'].unique()"
   ]
  },
  {
   "cell_type": "code",
   "execution_count": 23,
   "metadata": {},
   "outputs": [
    {
     "data": {
      "text/html": [
       "<div>\n",
       "<style scoped>\n",
       "    .dataframe tbody tr th:only-of-type {\n",
       "        vertical-align: middle;\n",
       "    }\n",
       "\n",
       "    .dataframe tbody tr th {\n",
       "        vertical-align: top;\n",
       "    }\n",
       "\n",
       "    .dataframe thead th {\n",
       "        text-align: right;\n",
       "    }\n",
       "</style>\n",
       "<table border=\"1\" class=\"dataframe\">\n",
       "  <thead>\n",
       "    <tr style=\"text-align: right;\">\n",
       "      <th></th>\n",
       "      <th>line_name</th>\n",
       "      <th>towards</th>\n",
       "    </tr>\n",
       "  </thead>\n",
       "  <tbody>\n",
       "    <tr>\n",
       "      <th>6</th>\n",
       "      <td>18</td>\n",
       "      <td>Schlachthausgasse U</td>\n",
       "    </tr>\n",
       "    <tr>\n",
       "      <th>11</th>\n",
       "      <td>O</td>\n",
       "      <td>Bruno-Marek-Allee</td>\n",
       "    </tr>\n",
       "    <tr>\n",
       "      <th>23</th>\n",
       "      <td>18</td>\n",
       "      <td>Schlachthausgasse U</td>\n",
       "    </tr>\n",
       "    <tr>\n",
       "      <th>28</th>\n",
       "      <td>O</td>\n",
       "      <td>Bruno-Marek-Allee</td>\n",
       "    </tr>\n",
       "    <tr>\n",
       "      <th>40</th>\n",
       "      <td>18</td>\n",
       "      <td>Schlachthausgasse U</td>\n",
       "    </tr>\n",
       "    <tr>\n",
       "      <th>...</th>\n",
       "      <td>...</td>\n",
       "      <td>...</td>\n",
       "    </tr>\n",
       "    <tr>\n",
       "      <th>14300</th>\n",
       "      <td>O</td>\n",
       "      <td>Bruno-Marek-Allee</td>\n",
       "    </tr>\n",
       "    <tr>\n",
       "      <th>14313</th>\n",
       "      <td>18</td>\n",
       "      <td>Schlachthausgasse U</td>\n",
       "    </tr>\n",
       "    <tr>\n",
       "      <th>14318</th>\n",
       "      <td>O</td>\n",
       "      <td>Bruno-Marek-Allee</td>\n",
       "    </tr>\n",
       "    <tr>\n",
       "      <th>14331</th>\n",
       "      <td>18</td>\n",
       "      <td>Schlachthausgasse U</td>\n",
       "    </tr>\n",
       "    <tr>\n",
       "      <th>14336</th>\n",
       "      <td>O</td>\n",
       "      <td>Bruno-Marek-Allee</td>\n",
       "    </tr>\n",
       "  </tbody>\n",
       "</table>\n",
       "<p>1598 rows × 2 columns</p>\n",
       "</div>"
      ],
      "text/plain": [
       "      line_name              towards\n",
       "6            18  Schlachthausgasse U\n",
       "11            O    Bruno-Marek-Allee\n",
       "23           18  Schlachthausgasse U\n",
       "28            O    Bruno-Marek-Allee\n",
       "40           18  Schlachthausgasse U\n",
       "...         ...                  ...\n",
       "14300         O    Bruno-Marek-Allee\n",
       "14313        18  Schlachthausgasse U\n",
       "14318         O    Bruno-Marek-Allee\n",
       "14331        18  Schlachthausgasse U\n",
       "14336         O    Bruno-Marek-Allee\n",
       "\n",
       "[1598 rows x 2 columns]"
      ]
     },
     "execution_count": 23,
     "metadata": {},
     "output_type": "execute_result"
    }
   ],
   "source": [
    "# all lines which stop at 'Gudrunstraße'\n",
    "df.loc[df['stop_name'] == 'Gudrunstraße', ['line_name', 'towards']]"
   ]
  },
  {
   "cell_type": "code",
   "execution_count": 90,
   "metadata": {},
   "outputs": [
    {
     "data": {
      "text/html": [
       "<div>\n",
       "<style scoped>\n",
       "    .dataframe tbody tr th:only-of-type {\n",
       "        vertical-align: middle;\n",
       "    }\n",
       "\n",
       "    .dataframe tbody tr th {\n",
       "        vertical-align: top;\n",
       "    }\n",
       "\n",
       "    .dataframe thead th {\n",
       "        text-align: right;\n",
       "    }\n",
       "</style>\n",
       "<table border=\"1\" class=\"dataframe\">\n",
       "  <thead>\n",
       "    <tr style=\"text-align: right;\">\n",
       "      <th></th>\n",
       "      <th>line_name</th>\n",
       "      <th>towards</th>\n",
       "    </tr>\n",
       "  </thead>\n",
       "  <tbody>\n",
       "    <tr>\n",
       "      <th>8</th>\n",
       "      <td>18</td>\n",
       "      <td>Quellenplatz</td>\n",
       "    </tr>\n",
       "    <tr>\n",
       "      <th>13</th>\n",
       "      <td>O</td>\n",
       "      <td>Raxstraße, Rudolfshügelgasse</td>\n",
       "    </tr>\n",
       "    <tr>\n",
       "      <th>26</th>\n",
       "      <td>18</td>\n",
       "      <td>Quellenplatz</td>\n",
       "    </tr>\n",
       "    <tr>\n",
       "      <th>31</th>\n",
       "      <td>O</td>\n",
       "      <td>Raxstraße, Rudolfshügelgasse</td>\n",
       "    </tr>\n",
       "    <tr>\n",
       "      <th>44</th>\n",
       "      <td>18</td>\n",
       "      <td>Quellenplatz</td>\n",
       "    </tr>\n",
       "    <tr>\n",
       "      <th>...</th>\n",
       "      <td>...</td>\n",
       "      <td>...</td>\n",
       "    </tr>\n",
       "    <tr>\n",
       "      <th>8127</th>\n",
       "      <td>O</td>\n",
       "      <td>Raxstraße, Rudolfshügelgasse</td>\n",
       "    </tr>\n",
       "    <tr>\n",
       "      <th>8140</th>\n",
       "      <td>18</td>\n",
       "      <td>Quellenplatz</td>\n",
       "    </tr>\n",
       "    <tr>\n",
       "      <th>8145</th>\n",
       "      <td>O</td>\n",
       "      <td>Raxstraße, Rudolfshügelgasse</td>\n",
       "    </tr>\n",
       "    <tr>\n",
       "      <th>8158</th>\n",
       "      <td>18</td>\n",
       "      <td>Quellenplatz</td>\n",
       "    </tr>\n",
       "    <tr>\n",
       "      <th>8163</th>\n",
       "      <td>O</td>\n",
       "      <td>Raxstraße, Rudolfshügelgasse</td>\n",
       "    </tr>\n",
       "  </tbody>\n",
       "</table>\n",
       "<p>968 rows × 2 columns</p>\n",
       "</div>"
      ],
      "text/plain": [
       "     line_name                       towards\n",
       "8           18                  Quellenplatz\n",
       "13           O  Raxstraße, Rudolfshügelgasse\n",
       "26          18                  Quellenplatz\n",
       "31           O  Raxstraße, Rudolfshügelgasse\n",
       "44          18                  Quellenplatz\n",
       "...        ...                           ...\n",
       "8127         O  Raxstraße, Rudolfshügelgasse\n",
       "8140        18                  Quellenplatz\n",
       "8145         O  Raxstraße, Rudolfshügelgasse\n",
       "8158        18                  Quellenplatz\n",
       "8163         O  Raxstraße, Rudolfshügelgasse\n",
       "\n",
       "[968 rows x 2 columns]"
      ]
     },
     "execution_count": 90,
     "metadata": {},
     "output_type": "execute_result"
    }
   ],
   "source": [
    "# all lines which stop at 'Gudrunstraße'\n",
    "df.loc[df['stop_name'] == 'Gudrunstraße ', ['line_name', 'towards']]"
   ]
  },
  {
   "cell_type": "markdown",
   "metadata": {},
   "source": [
    "It can now be seen that at 'Laxenburger Straße / Gudrunstraße' only line '14A' stops in both directions. At 'Gudrunstraße' only line 'O' runs in the direction of 'Bruno-Marek-Alle'. For the route in the other direction, there must have been a typing error. This name is 'Gudrunstraße ' and at this one the line 'O' goes in the direction of 'Raxstraße, Rudolfshügelgasse' and the '18' runs towards 'Quellenplatz'. Since everything leaves at the same DIVA, the name is changed for all to 'Gudrunstraße'."
   ]
  },
  {
   "cell_type": "code",
   "execution_count": 24,
   "metadata": {},
   "outputs": [],
   "source": [
    " df['stop_name'] = df['stop_name'].replace(dict.fromkeys(['Gudrunstraße ','Laxenburger Straße / Gudrunstraße'], 'Gudrunstraße'))"
   ]
  },
  {
   "cell_type": "markdown",
   "metadata": {},
   "source": [
    "### Reduce dataframe to get only last Entry per planned depature\n",
    "With the workflow, the current delay of the next vehicle was queried once per minute. If a vehicle now has an extremely long delay, this vehicle would very often be counted as a delay. To prevent this, only the last entry of each vehicle before the next one arrives is retained in the data. This is done by grouping by 'timePlanned', 'stop_name', 'line_name', 'directionID' and keeping only the last entry. This reduces the dataset to $\\sim \\frac{1}{6}$ of the respective output set."
   ]
  },
  {
   "cell_type": "code",
   "execution_count": 27,
   "metadata": {},
   "outputs": [],
   "source": [
    "df_red = df.groupby(['timePlanned', 'stop_name', 'line_name', 'richtungsID']).tail(1)"
   ]
  },
  {
   "cell_type": "code",
   "execution_count": 28,
   "metadata": {},
   "outputs": [
    {
     "data": {
      "image/png": "[encoded data removed]",
      "text/plain": [
       "<Figure size 720x360 with 1 Axes>"
      ]
     },
     "metadata": {},
     "output_type": "display_data"
    }
   ],
   "source": [
    "val_count(df_red, 'stop_name')"
   ]
  },
  {
   "cell_type": "markdown",
   "metadata": {},
   "source": [
    "## Data Exploration\n",
    "___\n",
    "### General delay per station\n",
    "The initial question to be clarified was which station has the least delays. This will now be clarified in the course of this section. For this purpose, the different stations are grouped and the distribution is evaluated for each station by means of numerical values, as well as graphically represented with a boxplot. A first conclusion is drawn here to answer the question."
   ]
  },
  {
   "cell_type": "code",
   "execution_count": 47,
   "metadata": {},
   "outputs": [
    {
     "data": {
      "text/html": [
       "<div>\n",
       "<style scoped>\n",
       "    .dataframe tbody tr th:only-of-type {\n",
       "        vertical-align: middle;\n",
       "    }\n",
       "\n",
       "    .dataframe tbody tr th {\n",
       "        vertical-align: top;\n",
       "    }\n",
       "\n",
       "    .dataframe thead th {\n",
       "        text-align: right;\n",
       "    }\n",
       "</style>\n",
       "<table border=\"1\" class=\"dataframe\">\n",
       "  <thead>\n",
       "    <tr style=\"text-align: right;\">\n",
       "      <th></th>\n",
       "      <th>count</th>\n",
       "      <th>mean</th>\n",
       "      <th>std</th>\n",
       "      <th>min</th>\n",
       "      <th>25%</th>\n",
       "      <th>50%</th>\n",
       "      <th>75%</th>\n",
       "      <th>max</th>\n",
       "    </tr>\n",
       "    <tr>\n",
       "      <th>stop_name</th>\n",
       "      <th></th>\n",
       "      <th></th>\n",
       "      <th></th>\n",
       "      <th></th>\n",
       "      <th></th>\n",
       "      <th></th>\n",
       "      <th></th>\n",
       "      <th></th>\n",
       "    </tr>\n",
       "  </thead>\n",
       "  <tbody>\n",
       "    <tr>\n",
       "      <th>Gudrunstraße</th>\n",
       "      <td>662.0</td>\n",
       "      <td>1.164653</td>\n",
       "      <td>73.854654</td>\n",
       "      <td>-286.0</td>\n",
       "      <td>-27.0</td>\n",
       "      <td>0.0</td>\n",
       "      <td>11.75</td>\n",
       "      <td>728.0</td>\n",
       "    </tr>\n",
       "    <tr>\n",
       "      <th>Kardinal-Nagl-Platz U</th>\n",
       "      <td>162.0</td>\n",
       "      <td>45.277778</td>\n",
       "      <td>65.963123</td>\n",
       "      <td>-55.0</td>\n",
       "      <td>0.0</td>\n",
       "      <td>5.5</td>\n",
       "      <td>78.00</td>\n",
       "      <td>297.0</td>\n",
       "    </tr>\n",
       "    <tr>\n",
       "      <th>Margaretenplatz, Schönbrunner Straße</th>\n",
       "      <td>506.0</td>\n",
       "      <td>4.357708</td>\n",
       "      <td>87.067360</td>\n",
       "      <td>-770.0</td>\n",
       "      <td>-46.0</td>\n",
       "      <td>5.5</td>\n",
       "      <td>44.00</td>\n",
       "      <td>499.0</td>\n",
       "    </tr>\n",
       "    <tr>\n",
       "      <th>Schönbrunn U</th>\n",
       "      <td>169.0</td>\n",
       "      <td>-4.360947</td>\n",
       "      <td>71.867561</td>\n",
       "      <td>-234.0</td>\n",
       "      <td>-38.0</td>\n",
       "      <td>0.0</td>\n",
       "      <td>5.00</td>\n",
       "      <td>284.0</td>\n",
       "    </tr>\n",
       "  </tbody>\n",
       "</table>\n",
       "</div>"
      ],
      "text/plain": [
       "                                      count       mean        std    min  \\\n",
       "stop_name                                                                  \n",
       "Gudrunstraße                          662.0   1.164653  73.854654 -286.0   \n",
       "Kardinal-Nagl-Platz U                 162.0  45.277778  65.963123  -55.0   \n",
       "Margaretenplatz, Schönbrunner Straße  506.0   4.357708  87.067360 -770.0   \n",
       "Schönbrunn U                          169.0  -4.360947  71.867561 -234.0   \n",
       "\n",
       "                                       25%  50%    75%    max  \n",
       "stop_name                                                      \n",
       "Gudrunstraße                         -27.0  0.0  11.75  728.0  \n",
       "Kardinal-Nagl-Platz U                  0.0  5.5  78.00  297.0  \n",
       "Margaretenplatz, Schönbrunner Straße -46.0  5.5  44.00  499.0  \n",
       "Schönbrunn U                         -38.0  0.0   5.00  284.0  "
      ]
     },
     "execution_count": 47,
     "metadata": {},
     "output_type": "execute_result"
    },
    {
     "data": {
      "image/png": "[encoded data removed]",
      "text/plain": [
       "<Figure size 720x360 with 1 Axes>"
      ]
     },
     "metadata": {},
     "output_type": "display_data"
    }
   ],
   "source": [
    "# get statistics of delays per stop_name\n",
    "plot_boxplot(df_red, 'stop_name', 'delay')\n",
    "df_red.groupby('stop_name')['delay'].describe()"
   ]
  },
  {
   "cell_type": "markdown",
   "metadata": {},
   "source": [
    "Here it can be seen that the delays at the respective stops do differ somewhat. In the median, the stop 'Gudrunstraße' and the stop 'Schönbrunn' both have the smallest deviation from the planned time with 0 seconds.  These are followed by 'Kardinal-Nagl-Platz U' and 'Margaretenplatz, Schönbrunner Straße' with 5.5 seconds. This is not a big gap in between.  <br>\n",
    "However, if you look at the mean value, you see very big differences. Here, the station 'Gudrunstraße' is also the best with an average deviation of approx. 1 second. Margaretenplatz, Schönbrunner Straße' comes second with an average delay of about 4.4 seconds. It is interesting that at 'Schönbrunn' the means of transport arrive approx. 4.4 seconds early. In last place is 'Kardinal-Nagl-Platz' with a delay of about 45 seconds. However, this has the lowest standard deviation. This amounts to 66 seconds. Schönbrunn' and 'Gudrunstraße' are very close to each other with 72 and 74 seconds respectively. Margartenplatz, Schönbrunner Straße' has the highest dispersion with 87 seconds. <br>\n",
    "In addition, it should be said that the span is smallest at 'Kardinal-Nagl-Platz'. This is in the interval [-55; 297]. For 'Schönbrunn' it is second best, namely [-234; 284].\n",
    "This is followed by the stations 'Gudrunstraße' and 'Margaretenplatz, Schönbrunner Straße' with [-286; 728] and [-770; 499].\n",
    "\n",
    "\n",
    "# Discussion\n",
    "\n",
    "Based on the data, it is hard to say which station is really **the** best. In terms of delay, I would say that 'Gudrunstraße' shows the least deviation in both median and mean. However, there are a lot of outliers here. This means that, on average, you wait a very short time for the next means of transport, but you can often be unlucky and have to wait a very long time. \n",
    "Here I would say that 'Cardinal Nagl Square' has the lowest standard deviation. However, this is where you wait the longest on average. <br>\n",
    "In my opinion, the best trade-off is 'Schönbrunn'. Here the range is moderate, the mean value only deviates by a few seconds and there is no delay at all in the median. The Qaurtiel values are also very good in comparison. I would say that 'Schönbrunn' delivers the best values in this respect. <br>\n",
    "I would rank 'Gudrunstraße' in second place. The quartile values here are quite okay, especially up to the 75% quartile. However, you should be aware that a means of transport often arrives too soon and you should plan a little more time and arrive earlier at the station. <br>\n",
    "In third place I see 'Kardinal-Nagl-Platz' Here it is rather the case that one should not expect early departure times, but rather a tendency towards somewhat late ones. However, the delays are moderate and there are no glaring outliers. So this could be seen as a relatively reliable option. <br>\n",
    "In last place I rank 'Margaretenplatz, Schönrunner Straße'. This has a very small average deviation, but the standard deviation is huge. No real trend can be identified as to whether the means of transport arrive too early or too late, so you have to reckon with everything. <br>\n",
    "\n",
    "## Limitations\n",
    "\n",
    "The data was only collected for one day and there were even exit restrictions on that day. To see a real trend, this analysis would have to provide multiple dates and the period of observation would have to be longer. <br>\n",
    "In addition, no distinction was made as to where each mode of transport was going. The delays were only analysed in aggregated form. All were treated equally. However, a weighting would make sense here, as I tend to use journeys into the city centre or to railway stations more often than out of the city. <br>\n",
    "In addition, no statement could be made about how much delay the metro has. However, this is a very important factor for me. I prefer underground journeys because they are quick and uncomplicated. This in particular would add value to 'Schönbrunn' and 'Kardinal-Nagl-Platz'.\n",
    "\n",
    "## Further Work\n",
    "\n",
    "As future tasks, I could imagine creating a dashboard of the next station with real-time data and evaluating when the next means of transport will arrive. <br>\n",
    "In the analysis, it would certainly be interesting to distinguish more precisely between the individual lines and to see whether individual lines are particularly susceptible to delays or early arrivals. <br>\n",
    "In addition, it would be interesting to evaluate the delays over the course of the day. Here it could be interesting to see whether a station is particularly affected by morning or evening traffic.  <br>\n",
    "As a last point, it would be interesting to intersect the delay data with other real-time data. At first glance, weather information or information about the traffic flow would come to mind. It would be interesting to see if there are any correlations.\n",
    "\n",
    "\n",
    "# Personal Reflection\n",
    "\n",
    "My main focus was to train my data cleaning skills with real world data. I did this by cleaning the static files and the collected real-time data. <br>\n",
    "Furthermore, I wanted to learn how to integrate a database into a Python script and write data about it into the database. I have achieved this as well. <br>\n",
    "Lastly, I wanted to learn to work with an API and retrieve data automatically. Here, too, I am very satisfied, as I had no prior experience in working with APIs. <br>\n",
    "\n",
    "Things that are not yet optimal are, for example, the function that retrieves the data. It works, but I don't think it's really elegant yet.  Personally, I still see a lot of potential for improvement here in terms of clean programming. <br>\n",
    "In addition, the analysis is still expandable. A lot more could be extracted from the data here. However, since the focus was more on the technical implementation in the backend, I am basically satisfied with the extent of the analysis.<br>\n",
    "\n",
    "All in all, however, I am very satisfied with the project. I have learned a lot of new things here, which is the most important thing for me personally.\n"
   ]
  }
 ],
 "metadata": {
  "kernelspec": {
   "display_name": "Python 3",
   "language": "python",
   "name": "python3"
  },
  "language_info": {
   "codemirror_mode": {
    "name": "ipython",
    "version": 3
   },
   "file_extension": ".py",
   "mimetype": "text/x-python",
   "name": "python",
   "nbconvert_exporter": "python",
   "pygments_lexer": "ipython3",
   "version": "3.7.6"
  },
  "toc": {
   "base_numbering": 1,
   "nav_menu": {},
   "number_sections": true,
   "sideBar": true,
   "skip_h1_title": false,
   "title_cell": "Table of Contents",
   "title_sidebar": "Contents",
   "toc_cell": false,
   "toc_position": {},
   "toc_section_display": true,
   "toc_window_display": false
  }
 },
 "nbformat": 4,
 "nbformat_minor": 4
}
