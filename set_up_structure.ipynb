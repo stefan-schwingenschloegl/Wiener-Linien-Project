{
 "cells": [
  {
   "cell_type": "markdown",
   "metadata": {},
   "source": [
    "# Set up general Infrastructure <a class=\"tocSkip\">\n",
    "Author: Stefan Roland Schwingenschlögl <br>\n",
    "email: stefan.roland.schwingenschloegl@gmail.com <br>\n",
    "github: github.com/stefan-schwingenschloegl <br>\n",
    "___\n",
    "*Projekt File No: 1 <br>*\n",
    "\n",
    "In this File the folder structure will be made. The idea is to have a root folder. This root folder will be the working directory for the whole project. All Notebooks will be hosted there.\n",
    "Inside the root folder there are three sub folders. Namely there will be a `input_data`, `realtime_data` & `img`. The idea is as followed:\n",
    "* `input_data`: host all static files from the Wiener Linien API\n",
    "* `realtime_data`: host all raw data which got collected from the Realtime API and inserted into the *stage_table* of the database\n",
    "* `img`: host all images which will be embedded in one of the notebooks\n",
    "\n",
    "After generating the whole file structure all static files which are available in the Wiener Linien API will be downloaded and saved to the `input_data` folder. These folder will not host any data in github due to the fact, that the data should be published from the primary source, which is the Wiener Linien GmbH & Co KG."
   ]
  },
  {
   "cell_type": "markdown",
   "metadata": {},
   "source": [
    "____\n",
    "## Import Libraries"
   ]
  },
  {
   "cell_type": "code",
   "execution_count": 1,
   "metadata": {},
   "outputs": [],
   "source": [
    "# library for operation system control\n",
    "import os\n",
    "\n",
    "# libraries for webscraping\n",
    "import urllib.request as request\n",
    "from bs4 import BeautifulSoup"
   ]
  },
  {
   "cell_type": "markdown",
   "metadata": {},
   "source": [
    "## Make folder structure\n",
    "___\n",
    "In this section the mentioned folder structure will be created. "
   ]
  },
  {
   "cell_type": "code",
   "execution_count": 3,
   "metadata": {},
   "outputs": [],
   "source": [
    "# Set general properties for this section\n",
    "root_folder = \"Wiener_Linien_Projekt\"\n",
    "sub_folder_list = [\"input_data\", \"realtime_data\", \"img\"]"
   ]
  },
  {
   "cell_type": "code",
   "execution_count": 4,
   "metadata": {},
   "outputs": [],
   "source": [
    "# create root_folder\n",
    "if root_folder not in os.listdir():\n",
    "    os.mkdir(root_folder)"
   ]
  },
  {
   "cell_type": "code",
   "execution_count": 5,
   "metadata": {},
   "outputs": [],
   "source": [
    "# change directory to root folder\n",
    "os.chdir(root_folder)"
   ]
  },
  {
   "cell_type": "code",
   "execution_count": 6,
   "metadata": {},
   "outputs": [],
   "source": [
    "# create data folders\n",
    "for folder in sub_folder_list:\n",
    "    if folder not in os.listdir():\n",
    "        os.mkdir(folder)"
   ]
  },
  {
   "cell_type": "markdown",
   "metadata": {},
   "source": [
    "\n",
    "## Download static files\n",
    "___\n",
    "The 'Wiener Linien' is the public transport agency from Vienna. They provide real time data from thier services to open use. The access to the data is through an API. The URL of the API is: http://www.wienerlinien.at/ogd_realtime/doku/"
   ]
  },
  {
   "cell_type": "code",
   "execution_count": 8,
   "metadata": {},
   "outputs": [],
   "source": [
    "# change working directory to input data\n",
    "os.chdir(sub_folder_list[0])"
   ]
  },
  {
   "cell_type": "code",
   "execution_count": 9,
   "metadata": {},
   "outputs": [],
   "source": [
    "# set general properties\n",
    "WL_URL = 'http://www.wienerlinien.at/ogd_realtime/doku/'"
   ]
  },
  {
   "cell_type": "code",
   "execution_count": 10,
   "metadata": {},
   "outputs": [
    {
     "name": "stdout",
     "output_type": "stream",
     "text": [
      "<!DOCTYPE html>\n",
      "<html lang=\"de\">\n",
      " <head>\n",
      "  <title>\n",
      "   Wiener Linien - OGD Doku\n",
      "  </title>\n",
      "  <meta content=\", \" name=\"keywords\"/>\n",
      "  <meta content=\"text/html; charset=utf-8\" http-equiv=\"Content-Type\"/>\n",
      " </head>\n",
      "</html>\n",
      "<body>\n",
      " <a href=\"./ogd/wienerlinien-ogd-fahrwegverlaeufe.csv\">\n",
      "  wienerlinien-ogd-fahrwegverlaeufe.csv\n",
      " </a>\n",
      " <br/>\n",
      " <a href=\"./ogd/wienerlinien-ogd-gps-punkte.csv\">\n",
      "  wienerlinien-ogd-gps-punkte.csv\n",
      " </a>\n",
      " <br/>\n",
      " <a href=\"./ogd/wienerlinien-ogd-haltepunkte.csv\">\n",
      "  wienerlinien-ogd-haltepunkte.csv\n",
      " </a>\n",
      " <br/>\n",
      " <a href=\"./ogd/wienerlinien-ogd-haltestellen.csv\">\n",
      "  wienerlinien-ogd-haltestellen.csv\n",
      " </a>\n",
      " <br/>\n",
      " <a href=\"./ogd/wienerlinien-ogd-linien.csv\">\n",
      "  wienerlinien-ogd-linien.csv\n",
      " </a>\n",
      " <br/>\n",
      " <a href=\"./ogd/wienerlinien-ogd-steige.csv\">\n",
      "  wienerlinien-ogd-steige.csv\n",
      " </a>\n",
      " <br/>\n",
      " <a href=\"./ogd/wienerlinien-ogd-version.csv\">\n",
      "  wienerlinien-ogd-version.csv\n",
      " </a>\n",
      " <br/>\n",
      " <br/>\n",
      " <a href=\"./ogd/wienerlinien_ogd_Beschreibung.pdf\">\n",
      "  wienerlinien_ogd_Beschreibung.pdf\n",
      " </a>\n",
      " <br/>\n",
      " <br/>\n",
      " <a href=\"./ogd/wienerlinien-echtzeitdaten-dokumentation.pdf\">\n",
      "  wienerlinien-echtzeitdaten-dokumentation.pdf\n",
      " </a>\n",
      " <br/>\n",
      " <br/>\n",
      " <br/>\n",
      " <br/>\n",
      " <b>\n",
      "  GTFS-Daten\n",
      " </b>\n",
      " <br/>\n",
      " <br/>\n",
      " <a href=\"./ogd/gtfs/agency.txt\">\n",
      "  agency.txt\n",
      " </a>\n",
      " <br/>\n",
      " <a href=\"./ogd/gtfs/calendar.txt\">\n",
      "  calendar.txt\n",
      " </a>\n",
      " <br/>\n",
      " <a href=\"./ogd/gtfs/calendar_dates.txt\">\n",
      "  calendar_dates.txt\n",
      " </a>\n",
      " <br/>\n",
      " <a href=\"./ogd/gtfs/routes.txt\">\n",
      "  routes.txt\n",
      " </a>\n",
      " <br/>\n",
      " <a href=\"./ogd/gtfs/shapes.txt\">\n",
      "  shapes.txt\n",
      " </a>\n",
      " <br/>\n",
      " <a href=\"./ogd/gtfs/stop_times.txt\">\n",
      "  stop_times.txt\n",
      " </a>\n",
      " <br/>\n",
      " <a href=\"./ogd/gtfs/stops.txt\">\n",
      "  stops.txt\n",
      " </a>\n",
      " <br/>\n",
      " <a href=\"./ogd/gtfs/trips.txt\">\n",
      "  trips.txt\n",
      " </a>\n",
      " <br/>\n",
      "</body>\n",
      "\n"
     ]
    }
   ],
   "source": [
    "# Get html text from the Wiener Linien API Doku (http://www.wienerlinien.at/ogd_realtime/doku)\n",
    "\n",
    "with request.urlopen(WL_URL) as response:\n",
    "    #print(response.getcode())\n",
    "    source = response.read()\n",
    "    soup = BeautifulSoup(source, 'html.parser')\n",
    "    print(soup.prettify())"
   ]
  },
  {
   "cell_type": "markdown",
   "metadata": {},
   "source": [
    "html: Tag 'a' refers to a hyperlink. 'href' refers to the URL were the hyperlink linkes to. In this case every hyperlink links to a file which we want to download. Therefore in the next step it is necessary to extract every string of a link and save it to a list. After that it is possible to iterate through the list and download all files from the links into the '/input_data' folder of the projects respository."
   ]
  },
  {
   "cell_type": "code",
   "execution_count": 11,
   "metadata": {},
   "outputs": [],
   "source": [
    "# generate a list of URLS from all static files in the Wiener Linien API\n",
    "URLS = []\n",
    "for a in soup.find_all('a', href=True):\n",
    "    URLS.append(a['href'].replace('./', WL_URL, 1))"
   ]
  },
  {
   "cell_type": "markdown",
   "metadata": {},
   "source": [
    "After getting the URLs from all available files, in the next section all files will be downloaded. "
   ]
  },
  {
   "cell_type": "code",
   "execution_count": 12,
   "metadata": {},
   "outputs": [
    {
     "name": "stdout",
     "output_type": "stream",
     "text": [
      "Sucessful Download: http://www.wienerlinien.at/ogd_realtime/doku/ogd/wienerlinien-ogd-fahrwegverlaeufe.csv\n",
      "Sucessful Download: http://www.wienerlinien.at/ogd_realtime/doku/ogd/wienerlinien-ogd-gps-punkte.csv\n",
      "Sucessful Download: http://www.wienerlinien.at/ogd_realtime/doku/ogd/wienerlinien-ogd-haltepunkte.csv\n",
      "Sucessful Download: http://www.wienerlinien.at/ogd_realtime/doku/ogd/wienerlinien-ogd-haltestellen.csv\n",
      "Sucessful Download: http://www.wienerlinien.at/ogd_realtime/doku/ogd/wienerlinien-ogd-linien.csv\n",
      "Sucessful Download: http://www.wienerlinien.at/ogd_realtime/doku/ogd/wienerlinien-ogd-steige.csv\n",
      "Sucessful Download: http://www.wienerlinien.at/ogd_realtime/doku/ogd/wienerlinien-ogd-version.csv\n",
      "Sucessful Download: http://www.wienerlinien.at/ogd_realtime/doku/ogd/wienerlinien_ogd_Beschreibung.pdf\n",
      "Sucessful Download: http://www.wienerlinien.at/ogd_realtime/doku/ogd/wienerlinien-echtzeitdaten-dokumentation.pdf\n",
      "Sucessful Download: http://www.wienerlinien.at/ogd_realtime/doku/ogd/gtfs/agency.txt\n",
      "Sucessful Download: http://www.wienerlinien.at/ogd_realtime/doku/ogd/gtfs/calendar.txt\n",
      "Sucessful Download: http://www.wienerlinien.at/ogd_realtime/doku/ogd/gtfs/calendar_dates.txt\n",
      "Sucessful Download: http://www.wienerlinien.at/ogd_realtime/doku/ogd/gtfs/routes.txt\n",
      "Sucessful Download: http://www.wienerlinien.at/ogd_realtime/doku/ogd/gtfs/shapes.txt\n",
      "Sucessful Download: http://www.wienerlinien.at/ogd_realtime/doku/ogd/gtfs/stop_times.txt\n",
      "Sucessful Download: http://www.wienerlinien.at/ogd_realtime/doku/ogd/gtfs/stops.txt\n",
      "Sucessful Download: http://www.wienerlinien.at/ogd_realtime/doku/ogd/gtfs/trips.txt\n",
      "#### All files got downloaded sucessfully ####\n"
     ]
    }
   ],
   "source": [
    "# Download all static csv files from the Wiener Linien API. \n",
    "\n",
    "for file in URLS:\n",
    "    request.urlretrieve(file, file.rsplit('/',1)[1])\n",
    "    print('Sucessful Download: ' + file)\n",
    "print(\"#### All files got downloaded sucessfully ####\")"
   ]
  },
  {
   "cell_type": "markdown",
   "metadata": {},
   "source": [
    "## Next Step:\n",
    "___\n",
    "After sucesfully setting up the infrastructure and downloading all files a closer look will be taken at the these files. An overview of the files will be given and if needed the file will be cleaned. This step will be made in the `static_file_cleaning.ipynb`. "
   ]
  }
 ],
 "metadata": {
  "kernelspec": {
   "display_name": "Python 3",
   "language": "python",
   "name": "python3"
  },
  "language_info": {
   "codemirror_mode": {
    "name": "ipython",
    "version": 3
   },
   "file_extension": ".py",
   "mimetype": "text/x-python",
   "name": "python",
   "nbconvert_exporter": "python",
   "pygments_lexer": "ipython3",
   "version": "3.7.6"
  },
  "toc": {
   "base_numbering": 1,
   "nav_menu": {},
   "number_sections": true,
   "sideBar": true,
   "skip_h1_title": false,
   "title_cell": "Table of Contents",
   "title_sidebar": "Contents",
   "toc_cell": false,
   "toc_position": {},
   "toc_section_display": true,
   "toc_window_display": false
  }
 },
 "nbformat": 4,
 "nbformat_minor": 4
}
